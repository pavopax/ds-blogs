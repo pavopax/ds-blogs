{
 "cells": [
  {
   "cell_type": "markdown",
   "metadata": {
    "deletable": true,
    "editable": true
   },
   "source": [
    "# Comparing Big Data Technologies"
   ]
  },
  {
   "cell_type": "markdown",
   "metadata": {
    "deletable": true,
    "editable": true
   },
   "source": [
    "# Get initial list"
   ]
  },
  {
   "cell_type": "code",
   "execution_count": 1,
   "metadata": {
    "collapsed": false,
    "deletable": true,
    "editable": true
   },
   "outputs": [],
   "source": [
    "techs = \"cascading, storm, spark, mapreduce, hadoop, hbase, cassandra, mongodb, couchdb, solr, elastic search, impala, flink, drill, hive\".split(\", \")"
   ]
  },
  {
   "cell_type": "markdown",
   "metadata": {
    "deletable": true,
    "editable": true
   },
   "source": [
    "# Get metrics"
   ]
  },
  {
   "cell_type": "code",
   "execution_count": 2,
   "metadata": {
    "collapsed": false,
    "deletable": true,
    "editable": true
   },
   "outputs": [],
   "source": [
    "%load_ext autoreload\n",
    "%autoreload 2"
   ]
  },
  {
   "cell_type": "code",
   "execution_count": 3,
   "metadata": {
    "collapsed": false,
    "deletable": true,
    "editable": true
   },
   "outputs": [],
   "source": [
    "import pandas as pd\n",
    "import numpy as np\n",
    "import logging\n",
    "import sys\n",
    "\n",
    "import get_stack_overflow_data as get_stack\n",
    "import get_github_data as get_git"
   ]
  },
  {
   "cell_type": "code",
   "execution_count": 4,
   "metadata": {
    "collapsed": true,
    "deletable": true,
    "editable": true
   },
   "outputs": [],
   "source": [
    "logging.basicConfig(level=logging.INFO)"
   ]
  },
  {
   "cell_type": "markdown",
   "metadata": {
    "deletable": true,
    "editable": true
   },
   "source": [
    "## Get Github data"
   ]
  },
  {
   "cell_type": "code",
   "execution_count": 5,
   "metadata": {
    "collapsed": true,
    "deletable": true,
    "editable": true
   },
   "outputs": [],
   "source": [
    "with open(\"secrets/github-token.nogit\", \"rb\") as f:\n",
    "    token = f.read()\n",
    "    \n",
    "headers = {'Authorization': 'token %s' % token}    "
   ]
  },
  {
   "cell_type": "code",
   "execution_count": 6,
   "metadata": {
    "collapsed": false,
    "deletable": true,
    "editable": true
   },
   "outputs": [
    {
     "data": {
      "text/plain": [
       "{'forks': 1550, 'package': 'hive', 'repo': u'apache/hive', 'stars': 1345}"
      ]
     },
     "execution_count": 6,
     "metadata": {},
     "output_type": "execute_result"
    }
   ],
   "source": [
    "# test one\n",
    "get_git.from_search('hive', headers=headers)"
   ]
  },
  {
   "cell_type": "code",
   "execution_count": 7,
   "metadata": {
    "collapsed": false,
    "deletable": true,
    "editable": true
   },
   "outputs": [
    {
     "name": "stderr",
     "output_type": "stream",
     "text": [
      "INFO:root:Running chunk 1 of 1...\n",
      "INFO:root:DONE.\n"
     ]
    }
   ],
   "source": [
    "git = get_git.search_from_list_delayed(techs, headers)"
   ]
  },
  {
   "cell_type": "code",
   "execution_count": 9,
   "metadata": {
    "collapsed": false,
    "deletable": true,
    "editable": true
   },
   "outputs": [
    {
     "data": {
      "text/html": [
       "<div>\n",
       "<table border=\"1\" class=\"dataframe\">\n",
       "  <thead>\n",
       "    <tr style=\"text-align: right;\">\n",
       "      <th></th>\n",
       "      <th>package</th>\n",
       "      <th>repo</th>\n",
       "      <th>forks</th>\n",
       "      <th>stars</th>\n",
       "    </tr>\n",
       "  </thead>\n",
       "  <tbody>\n",
       "    <tr>\n",
       "      <th>0</th>\n",
       "      <td>cascading</td>\n",
       "      <td>cwensel/cascading</td>\n",
       "      <td>220</td>\n",
       "      <td>295</td>\n",
       "    </tr>\n",
       "    <tr>\n",
       "      <th>1</th>\n",
       "      <td>storm</td>\n",
       "      <td>nathanmarz/storm</td>\n",
       "      <td>1791</td>\n",
       "      <td>8989</td>\n",
       "    </tr>\n",
       "    <tr>\n",
       "      <th>2</th>\n",
       "      <td>spark</td>\n",
       "      <td>apache/spark</td>\n",
       "      <td>12236</td>\n",
       "      <td>12987</td>\n",
       "    </tr>\n",
       "    <tr>\n",
       "      <th>3</th>\n",
       "      <td>mapreduce</td>\n",
       "      <td>cdmh/mapreduce</td>\n",
       "      <td>61</td>\n",
       "      <td>196</td>\n",
       "    </tr>\n",
       "    <tr>\n",
       "      <th>4</th>\n",
       "      <td>hadoop</td>\n",
       "      <td>apache/hadoop</td>\n",
       "      <td>3144</td>\n",
       "      <td>3302</td>\n",
       "    </tr>\n",
       "  </tbody>\n",
       "</table>\n",
       "</div>"
      ],
      "text/plain": [
       "     package               repo  forks  stars\n",
       "0  cascading  cwensel/cascading    220    295\n",
       "1      storm   nathanmarz/storm   1791   8989\n",
       "2      spark       apache/spark  12236  12987\n",
       "3  mapreduce     cdmh/mapreduce     61    196\n",
       "4     hadoop      apache/hadoop   3144   3302"
      ]
     },
     "execution_count": 9,
     "metadata": {},
     "output_type": "execute_result"
    }
   ],
   "source": [
    "df_git = pd.DataFrame(git)[['package', 'repo', 'forks', 'stars']]\n",
    "df_git.head()"
   ]
  },
  {
   "cell_type": "markdown",
   "metadata": {
    "deletable": true,
    "editable": true
   },
   "source": [
    "## Get Stack Overflow data"
   ]
  },
  {
   "cell_type": "markdown",
   "metadata": {
    "deletable": true,
    "editable": true
   },
   "source": [
    "### tags"
   ]
  },
  {
   "cell_type": "code",
   "execution_count": 10,
   "metadata": {
    "collapsed": false,
    "deletable": true,
    "editable": true
   },
   "outputs": [
    {
     "data": {
      "text/html": [
       "<div>\n",
       "<table border=\"1\" class=\"dataframe\">\n",
       "  <thead>\n",
       "    <tr style=\"text-align: right;\">\n",
       "      <th></th>\n",
       "      <th>count</th>\n",
       "      <th>has_synonyms</th>\n",
       "      <th>is_moderator_only</th>\n",
       "      <th>is_required</th>\n",
       "      <th>name</th>\n",
       "    </tr>\n",
       "  </thead>\n",
       "  <tbody>\n",
       "    <tr>\n",
       "      <th>0</th>\n",
       "      <td>33820</td>\n",
       "      <td>True</td>\n",
       "      <td>False</td>\n",
       "      <td>False</td>\n",
       "      <td>hadoop</td>\n",
       "    </tr>\n",
       "    <tr>\n",
       "      <th>1</th>\n",
       "      <td>27167</td>\n",
       "      <td>True</td>\n",
       "      <td>False</td>\n",
       "      <td>False</td>\n",
       "      <td>apache-spark</td>\n",
       "    </tr>\n",
       "  </tbody>\n",
       "</table>\n",
       "</div>"
      ],
      "text/plain": [
       "   count has_synonyms is_moderator_only is_required          name\n",
       "0  33820         True             False       False        hadoop\n",
       "1  27167         True             False       False  apache-spark"
      ]
     },
     "execution_count": 10,
     "metadata": {},
     "output_type": "execute_result"
    }
   ],
   "source": [
    "# test\n",
    "pd.DataFrame(get_stack.get_tag_counts([\"hadoop\", \"spark\"]))"
   ]
  },
  {
   "cell_type": "code",
   "execution_count": 11,
   "metadata": {
    "collapsed": true,
    "deletable": true,
    "editable": true
   },
   "outputs": [],
   "source": [
    "tags = get_stack.get_tag_counts(techs)"
   ]
  },
  {
   "cell_type": "code",
   "execution_count": 12,
   "metadata": {
    "collapsed": false,
    "deletable": true,
    "editable": true
   },
   "outputs": [
    {
     "data": {
      "text/html": [
       "<div>\n",
       "<table border=\"1\" class=\"dataframe\">\n",
       "  <thead>\n",
       "    <tr style=\"text-align: right;\">\n",
       "      <th></th>\n",
       "      <th>package</th>\n",
       "      <th>so_tags</th>\n",
       "    </tr>\n",
       "  </thead>\n",
       "  <tbody>\n",
       "    <tr>\n",
       "      <th>0</th>\n",
       "      <td>mongodb</td>\n",
       "      <td>82701</td>\n",
       "    </tr>\n",
       "    <tr>\n",
       "      <th>1</th>\n",
       "      <td>hadoop</td>\n",
       "      <td>33820</td>\n",
       "    </tr>\n",
       "    <tr>\n",
       "      <th>2</th>\n",
       "      <td>apache-spark</td>\n",
       "      <td>27167</td>\n",
       "    </tr>\n",
       "    <tr>\n",
       "      <th>3</th>\n",
       "      <td>elasticsearch</td>\n",
       "      <td>25616</td>\n",
       "    </tr>\n",
       "    <tr>\n",
       "      <th>4</th>\n",
       "      <td>solr</td>\n",
       "      <td>15746</td>\n",
       "    </tr>\n",
       "  </tbody>\n",
       "</table>\n",
       "</div>"
      ],
      "text/plain": [
       "         package  so_tags\n",
       "0        mongodb    82701\n",
       "1         hadoop    33820\n",
       "2   apache-spark    27167\n",
       "3  elasticsearch    25616\n",
       "4           solr    15746"
      ]
     },
     "execution_count": 12,
     "metadata": {},
     "output_type": "execute_result"
    }
   ],
   "source": [
    "df_tags = pd.DataFrame(tags)[['name', 'count']]\n",
    "df_tags.columns = ['package', 'so_tags']\n",
    "df_tags.head()"
   ]
  },
  {
   "cell_type": "markdown",
   "metadata": {
    "deletable": true,
    "editable": true
   },
   "source": [
    "### body"
   ]
  },
  {
   "cell_type": "code",
   "execution_count": 13,
   "metadata": {
    "collapsed": false,
    "deletable": true,
    "editable": true
   },
   "outputs": [
    {
     "data": {
      "text/plain": [
       "{'query': 'mapreduce', 'tag': 'r', 'total': 121}"
      ]
     },
     "execution_count": 13,
     "metadata": {},
     "output_type": "execute_result"
    }
   ],
   "source": [
    "# test\n",
    "get_stack.get_single_body_count('mapreduce', tag=\"r\")"
   ]
  },
  {
   "cell_type": "code",
   "execution_count": 14,
   "metadata": {
    "collapsed": true,
    "deletable": true,
    "editable": true
   },
   "outputs": [],
   "source": [
    "body = get_stack.get_body_counts(techs)"
   ]
  },
  {
   "cell_type": "code",
   "execution_count": 15,
   "metadata": {
    "collapsed": false
   },
   "outputs": [],
   "source": [
    "df_body = pd.DataFrame(body)[['query', 'total']]"
   ]
  },
  {
   "cell_type": "code",
   "execution_count": 16,
   "metadata": {
    "collapsed": false,
    "deletable": true,
    "editable": true
   },
   "outputs": [
    {
     "data": {
      "text/html": [
       "<div>\n",
       "<table border=\"1\" class=\"dataframe\">\n",
       "  <thead>\n",
       "    <tr style=\"text-align: right;\">\n",
       "      <th></th>\n",
       "      <th>package</th>\n",
       "      <th>so_body</th>\n",
       "    </tr>\n",
       "  </thead>\n",
       "  <tbody>\n",
       "    <tr>\n",
       "      <th>0</th>\n",
       "      <td>cascading</td>\n",
       "      <td>13908</td>\n",
       "    </tr>\n",
       "    <tr>\n",
       "      <th>1</th>\n",
       "      <td>storm</td>\n",
       "      <td>3952</td>\n",
       "    </tr>\n",
       "    <tr>\n",
       "      <th>2</th>\n",
       "      <td>spark</td>\n",
       "      <td>33120</td>\n",
       "    </tr>\n",
       "    <tr>\n",
       "      <th>3</th>\n",
       "      <td>mapreduce</td>\n",
       "      <td>14100</td>\n",
       "    </tr>\n",
       "    <tr>\n",
       "      <th>4</th>\n",
       "      <td>hadoop</td>\n",
       "      <td>39761</td>\n",
       "    </tr>\n",
       "  </tbody>\n",
       "</table>\n",
       "</div>"
      ],
      "text/plain": [
       "     package  so_body\n",
       "0  cascading    13908\n",
       "1      storm     3952\n",
       "2      spark    33120\n",
       "3  mapreduce    14100\n",
       "4     hadoop    39761"
      ]
     },
     "execution_count": 16,
     "metadata": {},
     "output_type": "execute_result"
    }
   ],
   "source": [
    "df_body.columns = ['package', 'so_body']\n",
    "df_body.head()"
   ]
  },
  {
   "cell_type": "markdown",
   "metadata": {
    "collapsed": true,
    "deletable": true,
    "editable": true
   },
   "source": [
    "# Combine data"
   ]
  },
  {
   "cell_type": "code",
   "execution_count": 17,
   "metadata": {
    "collapsed": false
   },
   "outputs": [],
   "source": [
    "df = df_git.merge(df_body, how='outer').merge(df_tags, how='outer')"
   ]
  },
  {
   "cell_type": "markdown",
   "metadata": {},
   "source": [
    "## TODO\n",
    "see how stack overflow is good at reading tags. But what about the question body ? how to manage it?"
   ]
  },
  {
   "cell_type": "code",
   "execution_count": 18,
   "metadata": {
    "collapsed": false
   },
   "outputs": [
    {
     "data": {
      "text/html": [
       "<div>\n",
       "<table border=\"1\" class=\"dataframe\">\n",
       "  <thead>\n",
       "    <tr style=\"text-align: right;\">\n",
       "      <th></th>\n",
       "      <th>package</th>\n",
       "      <th>repo</th>\n",
       "      <th>forks</th>\n",
       "      <th>stars</th>\n",
       "      <th>so_body</th>\n",
       "      <th>so_tags</th>\n",
       "    </tr>\n",
       "  </thead>\n",
       "  <tbody>\n",
       "    <tr>\n",
       "      <th>0</th>\n",
       "      <td>cascading</td>\n",
       "      <td>cwensel/cascading</td>\n",
       "      <td>220.0</td>\n",
       "      <td>295.0</td>\n",
       "      <td>13908.0</td>\n",
       "      <td>307.0</td>\n",
       "    </tr>\n",
       "    <tr>\n",
       "      <th>1</th>\n",
       "      <td>storm</td>\n",
       "      <td>nathanmarz/storm</td>\n",
       "      <td>1791.0</td>\n",
       "      <td>8989.0</td>\n",
       "      <td>3952.0</td>\n",
       "      <td>NaN</td>\n",
       "    </tr>\n",
       "    <tr>\n",
       "      <th>2</th>\n",
       "      <td>spark</td>\n",
       "      <td>apache/spark</td>\n",
       "      <td>12236.0</td>\n",
       "      <td>12987.0</td>\n",
       "      <td>33120.0</td>\n",
       "      <td>NaN</td>\n",
       "    </tr>\n",
       "    <tr>\n",
       "      <th>3</th>\n",
       "      <td>mapreduce</td>\n",
       "      <td>cdmh/mapreduce</td>\n",
       "      <td>61.0</td>\n",
       "      <td>196.0</td>\n",
       "      <td>14100.0</td>\n",
       "      <td>10391.0</td>\n",
       "    </tr>\n",
       "    <tr>\n",
       "      <th>4</th>\n",
       "      <td>hadoop</td>\n",
       "      <td>apache/hadoop</td>\n",
       "      <td>3144.0</td>\n",
       "      <td>3302.0</td>\n",
       "      <td>39761.0</td>\n",
       "      <td>33820.0</td>\n",
       "    </tr>\n",
       "    <tr>\n",
       "      <th>5</th>\n",
       "      <td>hbase</td>\n",
       "      <td>apache/hbase</td>\n",
       "      <td>1126.0</td>\n",
       "      <td>1259.0</td>\n",
       "      <td>7001.0</td>\n",
       "      <td>5412.0</td>\n",
       "    </tr>\n",
       "    <tr>\n",
       "      <th>6</th>\n",
       "      <td>cassandra</td>\n",
       "      <td>apache/cassandra</td>\n",
       "      <td>1631.0</td>\n",
       "      <td>3584.0</td>\n",
       "      <td>15296.0</td>\n",
       "      <td>12281.0</td>\n",
       "    </tr>\n",
       "    <tr>\n",
       "      <th>7</th>\n",
       "      <td>mongodb</td>\n",
       "      <td>doctrine/mongodb</td>\n",
       "      <td>180.0</td>\n",
       "      <td>285.0</td>\n",
       "      <td>82715.0</td>\n",
       "      <td>82701.0</td>\n",
       "    </tr>\n",
       "    <tr>\n",
       "      <th>8</th>\n",
       "      <td>couchdb</td>\n",
       "      <td>apache/couchdb</td>\n",
       "      <td>682.0</td>\n",
       "      <td>3009.0</td>\n",
       "      <td>6156.0</td>\n",
       "      <td>4809.0</td>\n",
       "    </tr>\n",
       "    <tr>\n",
       "      <th>9</th>\n",
       "      <td>solr</td>\n",
       "      <td>ekoontz/solr</td>\n",
       "      <td>185.0</td>\n",
       "      <td>6.0</td>\n",
       "      <td>18478.0</td>\n",
       "      <td>15746.0</td>\n",
       "    </tr>\n",
       "    <tr>\n",
       "      <th>10</th>\n",
       "      <td>elastic search</td>\n",
       "      <td>elastic/elasticsearch-ruby</td>\n",
       "      <td>298.0</td>\n",
       "      <td>1206.0</td>\n",
       "      <td>5799.0</td>\n",
       "      <td>NaN</td>\n",
       "    </tr>\n",
       "    <tr>\n",
       "      <th>11</th>\n",
       "      <td>impala</td>\n",
       "      <td>cloudera/Impala</td>\n",
       "      <td>722.0</td>\n",
       "      <td>1803.0</td>\n",
       "      <td>1007.0</td>\n",
       "      <td>711.0</td>\n",
       "    </tr>\n",
       "    <tr>\n",
       "      <th>12</th>\n",
       "      <td>flink</td>\n",
       "      <td>apache/flink</td>\n",
       "      <td>1651.0</td>\n",
       "      <td>2347.0</td>\n",
       "      <td>1073.0</td>\n",
       "      <td>NaN</td>\n",
       "    </tr>\n",
       "    <tr>\n",
       "      <th>13</th>\n",
       "      <td>drill</td>\n",
       "      <td>apache/drill</td>\n",
       "      <td>545.0</td>\n",
       "      <td>798.0</td>\n",
       "      <td>6218.0</td>\n",
       "      <td>NaN</td>\n",
       "    </tr>\n",
       "    <tr>\n",
       "      <th>14</th>\n",
       "      <td>hive</td>\n",
       "      <td>apache/hive</td>\n",
       "      <td>1550.0</td>\n",
       "      <td>1345.0</td>\n",
       "      <td>14963.0</td>\n",
       "      <td>10746.0</td>\n",
       "    </tr>\n",
       "    <tr>\n",
       "      <th>15</th>\n",
       "      <td>apache-spark</td>\n",
       "      <td>NaN</td>\n",
       "      <td>NaN</td>\n",
       "      <td>NaN</td>\n",
       "      <td>NaN</td>\n",
       "      <td>27167.0</td>\n",
       "    </tr>\n",
       "    <tr>\n",
       "      <th>16</th>\n",
       "      <td>elasticsearch</td>\n",
       "      <td>NaN</td>\n",
       "      <td>NaN</td>\n",
       "      <td>NaN</td>\n",
       "      <td>NaN</td>\n",
       "      <td>25616.0</td>\n",
       "    </tr>\n",
       "    <tr>\n",
       "      <th>17</th>\n",
       "      <td>apache-storm</td>\n",
       "      <td>NaN</td>\n",
       "      <td>NaN</td>\n",
       "      <td>NaN</td>\n",
       "      <td>NaN</td>\n",
       "      <td>2002.0</td>\n",
       "    </tr>\n",
       "    <tr>\n",
       "      <th>18</th>\n",
       "      <td>apache-flink</td>\n",
       "      <td>NaN</td>\n",
       "      <td>NaN</td>\n",
       "      <td>NaN</td>\n",
       "      <td>NaN</td>\n",
       "      <td>943.0</td>\n",
       "    </tr>\n",
       "  </tbody>\n",
       "</table>\n",
       "</div>"
      ],
      "text/plain": [
       "           package                        repo    forks    stars  so_body  \\\n",
       "0        cascading           cwensel/cascading    220.0    295.0  13908.0   \n",
       "1            storm            nathanmarz/storm   1791.0   8989.0   3952.0   \n",
       "2            spark                apache/spark  12236.0  12987.0  33120.0   \n",
       "3        mapreduce              cdmh/mapreduce     61.0    196.0  14100.0   \n",
       "4           hadoop               apache/hadoop   3144.0   3302.0  39761.0   \n",
       "5            hbase                apache/hbase   1126.0   1259.0   7001.0   \n",
       "6        cassandra            apache/cassandra   1631.0   3584.0  15296.0   \n",
       "7          mongodb            doctrine/mongodb    180.0    285.0  82715.0   \n",
       "8          couchdb              apache/couchdb    682.0   3009.0   6156.0   \n",
       "9             solr                ekoontz/solr    185.0      6.0  18478.0   \n",
       "10  elastic search  elastic/elasticsearch-ruby    298.0   1206.0   5799.0   \n",
       "11          impala             cloudera/Impala    722.0   1803.0   1007.0   \n",
       "12           flink                apache/flink   1651.0   2347.0   1073.0   \n",
       "13           drill                apache/drill    545.0    798.0   6218.0   \n",
       "14            hive                 apache/hive   1550.0   1345.0  14963.0   \n",
       "15    apache-spark                         NaN      NaN      NaN      NaN   \n",
       "16   elasticsearch                         NaN      NaN      NaN      NaN   \n",
       "17    apache-storm                         NaN      NaN      NaN      NaN   \n",
       "18    apache-flink                         NaN      NaN      NaN      NaN   \n",
       "\n",
       "    so_tags  \n",
       "0     307.0  \n",
       "1       NaN  \n",
       "2       NaN  \n",
       "3   10391.0  \n",
       "4   33820.0  \n",
       "5    5412.0  \n",
       "6   12281.0  \n",
       "7   82701.0  \n",
       "8    4809.0  \n",
       "9   15746.0  \n",
       "10      NaN  \n",
       "11    711.0  \n",
       "12      NaN  \n",
       "13      NaN  \n",
       "14  10746.0  \n",
       "15  27167.0  \n",
       "16  25616.0  \n",
       "17   2002.0  \n",
       "18    943.0  "
      ]
     },
     "execution_count": 18,
     "metadata": {},
     "output_type": "execute_result"
    }
   ],
   "source": [
    "df"
   ]
  },
  {
   "cell_type": "code",
   "execution_count": null,
   "metadata": {
    "collapsed": true
   },
   "outputs": [],
   "source": []
  }
 ],
 "metadata": {
  "kernelspec": {
   "display_name": "Python 2",
   "language": "python",
   "name": "python2"
  },
  "language_info": {
   "codemirror_mode": {
    "name": "ipython",
    "version": 2
   },
   "file_extension": ".py",
   "mimetype": "text/x-python",
   "name": "python",
   "nbconvert_exporter": "python",
   "pygments_lexer": "ipython2",
   "version": "2.7.13"
  }
 },
 "nbformat": 4,
 "nbformat_minor": 1
}
