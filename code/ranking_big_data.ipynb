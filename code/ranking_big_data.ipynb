{
 "cells": [
  {
   "cell_type": "markdown",
   "metadata": {
    "deletable": true,
    "editable": true
   },
   "source": [
    "# Comparing Big Data Technologies"
   ]
  },
  {
   "cell_type": "markdown",
   "metadata": {
    "deletable": true,
    "editable": true
   },
   "source": [
    "# Get initial list"
   ]
  },
  {
   "cell_type": "code",
   "execution_count": 125,
   "metadata": {
    "collapsed": false,
    "deletable": true,
    "editable": true
   },
   "outputs": [
    {
     "data": {
      "text/plain": [
       "21"
      ]
     },
     "execution_count": 125,
     "metadata": {},
     "output_type": "execute_result"
    }
   ],
   "source": [
    "techs = (\"cascading, storm, spark, mapreduce, hadoop, hbase, cassandra, \"\n",
    "         \"mongo, mongodb, couchdb, lucene, solr, lucene-solr, \"\n",
    "         \"elasticsearch, impala, flink, drill, apache-drill, apache drill, \"\n",
    "         \"hive, scalding\")\n",
    "techs = techs.split(\", \")\n",
    "len(techs)"
   ]
  },
  {
   "cell_type": "markdown",
   "metadata": {
    "deletable": true,
    "editable": true
   },
   "source": [
    "# Get metrics"
   ]
  },
  {
   "cell_type": "code",
   "execution_count": 126,
   "metadata": {
    "collapsed": false,
    "deletable": true,
    "editable": true
   },
   "outputs": [
    {
     "name": "stdout",
     "output_type": "stream",
     "text": [
      "The autoreload extension is already loaded. To reload it, use:\n",
      "  %reload_ext autoreload\n"
     ]
    }
   ],
   "source": [
    "%load_ext autoreload\n",
    "%autoreload 2"
   ]
  },
  {
   "cell_type": "code",
   "execution_count": 127,
   "metadata": {
    "collapsed": false,
    "deletable": true,
    "editable": true
   },
   "outputs": [],
   "source": [
    "import pandas as pd\n",
    "import numpy as np\n",
    "import logging\n",
    "import sys\n",
    "\n",
    "import get_stack_overflow_data as get_stack\n",
    "import get_github_data as get_git"
   ]
  },
  {
   "cell_type": "code",
   "execution_count": 128,
   "metadata": {
    "collapsed": true,
    "deletable": true,
    "editable": true
   },
   "outputs": [],
   "source": [
    "logging.basicConfig(level=logging.INFO)"
   ]
  },
  {
   "cell_type": "code",
   "execution_count": 129,
   "metadata": {
    "collapsed": true,
    "deletable": true,
    "editable": true
   },
   "outputs": [],
   "source": [
    "with open(\"secrets/github-token.nogit\", \"rb\") as f:\n",
    "    token = f.read()\n",
    "    \n",
    "headers = {'Authorization': 'token %s' % token}    "
   ]
  },
  {
   "cell_type": "markdown",
   "metadata": {
    "deletable": true,
    "editable": true
   },
   "source": [
    "## Get Github data"
   ]
  },
  {
   "cell_type": "code",
   "execution_count": 130,
   "metadata": {
    "collapsed": false,
    "deletable": true,
    "editable": true
   },
   "outputs": [],
   "source": [
    "#get_git.from_search('lucene-solr', headers=headers)       # test"
   ]
  },
  {
   "cell_type": "code",
   "execution_count": 194,
   "metadata": {
    "collapsed": false,
    "deletable": true,
    "editable": true
   },
   "outputs": [
    {
     "name": "stderr",
     "output_type": "stream",
     "text": [
      "INFO:root:Running chunk 1 of 1...\n",
      "INFO:root:DONE.\n"
     ]
    },
    {
     "data": {
      "text/html": [
       "<div>\n",
       "<table border=\"1\" class=\"dataframe\">\n",
       "  <thead>\n",
       "    <tr style=\"text-align: right;\">\n",
       "      <th></th>\n",
       "      <th>package</th>\n",
       "      <th>repo</th>\n",
       "      <th>forks</th>\n",
       "      <th>stars</th>\n",
       "    </tr>\n",
       "  </thead>\n",
       "  <tbody>\n",
       "    <tr>\n",
       "      <th>0</th>\n",
       "      <td>cascading</td>\n",
       "      <td>cwensel/cascading</td>\n",
       "      <td>220</td>\n",
       "      <td>295</td>\n",
       "    </tr>\n",
       "    <tr>\n",
       "      <th>1</th>\n",
       "      <td>storm</td>\n",
       "      <td>nathanmarz/storm</td>\n",
       "      <td>1792</td>\n",
       "      <td>8989</td>\n",
       "    </tr>\n",
       "    <tr>\n",
       "      <th>2</th>\n",
       "      <td>spark</td>\n",
       "      <td>apache/spark</td>\n",
       "      <td>12250</td>\n",
       "      <td>13007</td>\n",
       "    </tr>\n",
       "    <tr>\n",
       "      <th>3</th>\n",
       "      <td>mapreduce</td>\n",
       "      <td>cdmh/mapreduce</td>\n",
       "      <td>61</td>\n",
       "      <td>196</td>\n",
       "    </tr>\n",
       "    <tr>\n",
       "      <th>4</th>\n",
       "      <td>hadoop</td>\n",
       "      <td>apache/hadoop</td>\n",
       "      <td>3145</td>\n",
       "      <td>3304</td>\n",
       "    </tr>\n",
       "  </tbody>\n",
       "</table>\n",
       "</div>"
      ],
      "text/plain": [
       "     package               repo  forks  stars\n",
       "0  cascading  cwensel/cascading    220    295\n",
       "1      storm   nathanmarz/storm   1792   8989\n",
       "2      spark       apache/spark  12250  13007\n",
       "3  mapreduce     cdmh/mapreduce     61    196\n",
       "4     hadoop      apache/hadoop   3145   3304"
      ]
     },
     "execution_count": 194,
     "metadata": {},
     "output_type": "execute_result"
    }
   ],
   "source": [
    "git = get_git.search_from_list_delayed(techs, headers)\n",
    "\n",
    "df_git = pd.DataFrame(git)[['package', 'repo', 'forks', 'stars']]\n",
    "df_git.tail()"
   ]
  },
  {
   "cell_type": "markdown",
   "metadata": {
    "deletable": true,
    "editable": true
   },
   "source": [
    "## Get Stack Overflow data"
   ]
  },
  {
   "cell_type": "markdown",
   "metadata": {
    "deletable": true,
    "editable": true
   },
   "source": [
    "### tags"
   ]
  },
  {
   "cell_type": "code",
   "execution_count": 133,
   "metadata": {
    "collapsed": false,
    "deletable": true,
    "editable": true
   },
   "outputs": [],
   "source": [
    "# pd.DataFrame(get_stack.get_tag_counts([\"map reduce\", \"spark\"]))   # test"
   ]
  },
  {
   "cell_type": "code",
   "execution_count": 165,
   "metadata": {
    "collapsed": true,
    "deletable": true,
    "editable": true
   },
   "outputs": [],
   "source": [
    "tags = get_stack.get_tag_counts(techs)"
   ]
  },
  {
   "cell_type": "code",
   "execution_count": 166,
   "metadata": {
    "collapsed": false,
    "deletable": true,
    "editable": true
   },
   "outputs": [
    {
     "data": {
      "text/html": [
       "<div>\n",
       "<table border=\"1\" class=\"dataframe\">\n",
       "  <thead>\n",
       "    <tr style=\"text-align: right;\">\n",
       "      <th></th>\n",
       "      <th>package</th>\n",
       "      <th>so_tags</th>\n",
       "    </tr>\n",
       "  </thead>\n",
       "  <tbody>\n",
       "    <tr>\n",
       "      <th>0</th>\n",
       "      <td>mongodb</td>\n",
       "      <td>82783</td>\n",
       "    </tr>\n",
       "    <tr>\n",
       "      <th>1</th>\n",
       "      <td>hadoop</td>\n",
       "      <td>33852</td>\n",
       "    </tr>\n",
       "    <tr>\n",
       "      <th>2</th>\n",
       "      <td>apache-spark</td>\n",
       "      <td>27237</td>\n",
       "    </tr>\n",
       "    <tr>\n",
       "      <th>3</th>\n",
       "      <td>elasticsearch</td>\n",
       "      <td>25662</td>\n",
       "    </tr>\n",
       "    <tr>\n",
       "      <th>4</th>\n",
       "      <td>solr</td>\n",
       "      <td>15756</td>\n",
       "    </tr>\n",
       "  </tbody>\n",
       "</table>\n",
       "</div>"
      ],
      "text/plain": [
       "         package  so_tags\n",
       "0        mongodb    82783\n",
       "1         hadoop    33852\n",
       "2   apache-spark    27237\n",
       "3  elasticsearch    25662\n",
       "4           solr    15756"
      ]
     },
     "execution_count": 166,
     "metadata": {},
     "output_type": "execute_result"
    }
   ],
   "source": [
    "df_tags = pd.DataFrame(tags)[['name', 'count']]\n",
    "df_tags.columns = ['package', 'so_tags']\n",
    "df_tags.head()"
   ]
  },
  {
   "cell_type": "markdown",
   "metadata": {
    "deletable": true,
    "editable": true
   },
   "source": [
    "### question body"
   ]
  },
  {
   "cell_type": "code",
   "execution_count": 167,
   "metadata": {
    "collapsed": false,
    "deletable": true,
    "editable": true
   },
   "outputs": [],
   "source": [
    "# get_stack.get_body_counts(['mapreduce'])       # test"
   ]
  },
  {
   "cell_type": "code",
   "execution_count": 168,
   "metadata": {
    "collapsed": true,
    "deletable": true,
    "editable": true
   },
   "outputs": [],
   "source": [
    "body = get_stack.get_body_counts(techs)"
   ]
  },
  {
   "cell_type": "code",
   "execution_count": 169,
   "metadata": {
    "collapsed": false,
    "deletable": true,
    "editable": true
   },
   "outputs": [],
   "source": [
    "df_body = pd.DataFrame(body)[['query', 'total']]"
   ]
  },
  {
   "cell_type": "code",
   "execution_count": 170,
   "metadata": {
    "collapsed": false,
    "deletable": true,
    "editable": true
   },
   "outputs": [
    {
     "data": {
      "text/html": [
       "<div>\n",
       "<table border=\"1\" class=\"dataframe\">\n",
       "  <thead>\n",
       "    <tr style=\"text-align: right;\">\n",
       "      <th></th>\n",
       "      <th>package</th>\n",
       "      <th>so_body</th>\n",
       "    </tr>\n",
       "  </thead>\n",
       "  <tbody>\n",
       "    <tr>\n",
       "      <th>0</th>\n",
       "      <td>cascading</td>\n",
       "      <td>13920</td>\n",
       "    </tr>\n",
       "    <tr>\n",
       "      <th>1</th>\n",
       "      <td>storm</td>\n",
       "      <td>3957</td>\n",
       "    </tr>\n",
       "    <tr>\n",
       "      <th>2</th>\n",
       "      <td>spark</td>\n",
       "      <td>33193</td>\n",
       "    </tr>\n",
       "    <tr>\n",
       "      <th>3</th>\n",
       "      <td>mapreduce</td>\n",
       "      <td>14105</td>\n",
       "    </tr>\n",
       "    <tr>\n",
       "      <th>4</th>\n",
       "      <td>hadoop</td>\n",
       "      <td>39803</td>\n",
       "    </tr>\n",
       "  </tbody>\n",
       "</table>\n",
       "</div>"
      ],
      "text/plain": [
       "     package  so_body\n",
       "0  cascading    13920\n",
       "1      storm     3957\n",
       "2      spark    33193\n",
       "3  mapreduce    14105\n",
       "4     hadoop    39803"
      ]
     },
     "execution_count": 170,
     "metadata": {},
     "output_type": "execute_result"
    }
   ],
   "source": [
    "df_body.columns = ['package', 'so_body']\n",
    "df_body.head()"
   ]
  },
  {
   "cell_type": "markdown",
   "metadata": {
    "deletable": true,
    "editable": true
   },
   "source": [
    "# Process results"
   ]
  },
  {
   "cell_type": "code",
   "execution_count": 140,
   "metadata": {
    "collapsed": false
   },
   "outputs": [
    {
     "data": {
      "text/html": [
       "<div>\n",
       "<table border=\"1\" class=\"dataframe\">\n",
       "  <thead>\n",
       "    <tr style=\"text-align: right;\">\n",
       "      <th></th>\n",
       "      <th>package</th>\n",
       "      <th>repo</th>\n",
       "      <th>forks</th>\n",
       "      <th>stars</th>\n",
       "    </tr>\n",
       "  </thead>\n",
       "  <tbody>\n",
       "    <tr>\n",
       "      <th>0</th>\n",
       "      <td>cascading</td>\n",
       "      <td>cwensel/cascading</td>\n",
       "      <td>220</td>\n",
       "      <td>295</td>\n",
       "    </tr>\n",
       "    <tr>\n",
       "      <th>1</th>\n",
       "      <td>storm</td>\n",
       "      <td>nathanmarz/storm</td>\n",
       "      <td>1792</td>\n",
       "      <td>8989</td>\n",
       "    </tr>\n",
       "    <tr>\n",
       "      <th>2</th>\n",
       "      <td>spark</td>\n",
       "      <td>apache/spark</td>\n",
       "      <td>12250</td>\n",
       "      <td>13007</td>\n",
       "    </tr>\n",
       "    <tr>\n",
       "      <th>3</th>\n",
       "      <td>mapreduce</td>\n",
       "      <td>cdmh/mapreduce</td>\n",
       "      <td>61</td>\n",
       "      <td>196</td>\n",
       "    </tr>\n",
       "    <tr>\n",
       "      <th>4</th>\n",
       "      <td>hadoop</td>\n",
       "      <td>apache/hadoop</td>\n",
       "      <td>3145</td>\n",
       "      <td>3304</td>\n",
       "    </tr>\n",
       "    <tr>\n",
       "      <th>5</th>\n",
       "      <td>hbase</td>\n",
       "      <td>apache/hbase</td>\n",
       "      <td>1126</td>\n",
       "      <td>1262</td>\n",
       "    </tr>\n",
       "    <tr>\n",
       "      <th>6</th>\n",
       "      <td>cassandra</td>\n",
       "      <td>apache/cassandra</td>\n",
       "      <td>1637</td>\n",
       "      <td>3583</td>\n",
       "    </tr>\n",
       "    <tr>\n",
       "      <th>7</th>\n",
       "      <td>mongo</td>\n",
       "      <td>mongodb/mongo</td>\n",
       "      <td>3133</td>\n",
       "      <td>11573</td>\n",
       "    </tr>\n",
       "    <tr>\n",
       "      <th>8</th>\n",
       "      <td>mongodb</td>\n",
       "      <td>doctrine/mongodb</td>\n",
       "      <td>180</td>\n",
       "      <td>285</td>\n",
       "    </tr>\n",
       "    <tr>\n",
       "      <th>9</th>\n",
       "      <td>couchdb</td>\n",
       "      <td>apache/couchdb</td>\n",
       "      <td>682</td>\n",
       "      <td>3014</td>\n",
       "    </tr>\n",
       "    <tr>\n",
       "      <th>10</th>\n",
       "      <td>lucene</td>\n",
       "      <td>doushini/lucene</td>\n",
       "      <td>70</td>\n",
       "      <td>42</td>\n",
       "    </tr>\n",
       "    <tr>\n",
       "      <th>11</th>\n",
       "      <td>solr</td>\n",
       "      <td>ekoontz/solr</td>\n",
       "      <td>185</td>\n",
       "      <td>6</td>\n",
       "    </tr>\n",
       "    <tr>\n",
       "      <th>12</th>\n",
       "      <td>lucene-solr</td>\n",
       "      <td>apache/lucene-solr</td>\n",
       "      <td>851</td>\n",
       "      <td>877</td>\n",
       "    </tr>\n",
       "    <tr>\n",
       "      <th>13</th>\n",
       "      <td>elasticsearch</td>\n",
       "      <td>elastic/elasticsearch</td>\n",
       "      <td>8064</td>\n",
       "      <td>22937</td>\n",
       "    </tr>\n",
       "    <tr>\n",
       "      <th>14</th>\n",
       "      <td>impala</td>\n",
       "      <td>cloudera/Impala</td>\n",
       "      <td>722</td>\n",
       "      <td>1803</td>\n",
       "    </tr>\n",
       "    <tr>\n",
       "      <th>15</th>\n",
       "      <td>flink</td>\n",
       "      <td>apache/flink</td>\n",
       "      <td>1652</td>\n",
       "      <td>2352</td>\n",
       "    </tr>\n",
       "    <tr>\n",
       "      <th>16</th>\n",
       "      <td>drill</td>\n",
       "      <td>apache/drill</td>\n",
       "      <td>545</td>\n",
       "      <td>798</td>\n",
       "    </tr>\n",
       "    <tr>\n",
       "      <th>17</th>\n",
       "      <td>apache-drill</td>\n",
       "      <td>apache/drill</td>\n",
       "      <td>545</td>\n",
       "      <td>798</td>\n",
       "    </tr>\n",
       "    <tr>\n",
       "      <th>18</th>\n",
       "      <td>apache drill</td>\n",
       "      <td>apache/drill</td>\n",
       "      <td>545</td>\n",
       "      <td>798</td>\n",
       "    </tr>\n",
       "    <tr>\n",
       "      <th>19</th>\n",
       "      <td>hive</td>\n",
       "      <td>apache/hive</td>\n",
       "      <td>1552</td>\n",
       "      <td>1347</td>\n",
       "    </tr>\n",
       "    <tr>\n",
       "      <th>20</th>\n",
       "      <td>scalding</td>\n",
       "      <td>twitter/scalding</td>\n",
       "      <td>635</td>\n",
       "      <td>2821</td>\n",
       "    </tr>\n",
       "  </tbody>\n",
       "</table>\n",
       "</div>"
      ],
      "text/plain": [
       "          package                   repo  forks  stars\n",
       "0       cascading      cwensel/cascading    220    295\n",
       "1           storm       nathanmarz/storm   1792   8989\n",
       "2           spark           apache/spark  12250  13007\n",
       "3       mapreduce         cdmh/mapreduce     61    196\n",
       "4          hadoop          apache/hadoop   3145   3304\n",
       "5           hbase           apache/hbase   1126   1262\n",
       "6       cassandra       apache/cassandra   1637   3583\n",
       "7           mongo          mongodb/mongo   3133  11573\n",
       "8         mongodb       doctrine/mongodb    180    285\n",
       "9         couchdb         apache/couchdb    682   3014\n",
       "10         lucene        doushini/lucene     70     42\n",
       "11           solr           ekoontz/solr    185      6\n",
       "12    lucene-solr     apache/lucene-solr    851    877\n",
       "13  elasticsearch  elastic/elasticsearch   8064  22937\n",
       "14         impala        cloudera/Impala    722   1803\n",
       "15          flink           apache/flink   1652   2352\n",
       "16          drill           apache/drill    545    798\n",
       "17   apache-drill           apache/drill    545    798\n",
       "18   apache drill           apache/drill    545    798\n",
       "19           hive            apache/hive   1552   1347\n",
       "20       scalding       twitter/scalding    635   2821"
      ]
     },
     "execution_count": 140,
     "metadata": {},
     "output_type": "execute_result"
    }
   ],
   "source": [
    "df_git"
   ]
  },
  {
   "cell_type": "code",
   "execution_count": 181,
   "metadata": {
    "collapsed": false
   },
   "outputs": [
    {
     "data": {
      "text/html": [
       "<div>\n",
       "<table border=\"1\" class=\"dataframe\">\n",
       "  <thead>\n",
       "    <tr style=\"text-align: right;\">\n",
       "      <th></th>\n",
       "      <th>package</th>\n",
       "      <th>so_body</th>\n",
       "    </tr>\n",
       "  </thead>\n",
       "  <tbody>\n",
       "    <tr>\n",
       "      <th>0</th>\n",
       "      <td>cascading</td>\n",
       "      <td>13920</td>\n",
       "    </tr>\n",
       "    <tr>\n",
       "      <th>1</th>\n",
       "      <td>storm</td>\n",
       "      <td>3957</td>\n",
       "    </tr>\n",
       "    <tr>\n",
       "      <th>2</th>\n",
       "      <td>spark</td>\n",
       "      <td>33193</td>\n",
       "    </tr>\n",
       "    <tr>\n",
       "      <th>3</th>\n",
       "      <td>mapreduce</td>\n",
       "      <td>14105</td>\n",
       "    </tr>\n",
       "    <tr>\n",
       "      <th>4</th>\n",
       "      <td>hadoop</td>\n",
       "      <td>39803</td>\n",
       "    </tr>\n",
       "    <tr>\n",
       "      <th>5</th>\n",
       "      <td>hbase</td>\n",
       "      <td>7003</td>\n",
       "    </tr>\n",
       "    <tr>\n",
       "      <th>6</th>\n",
       "      <td>cassandra</td>\n",
       "      <td>15307</td>\n",
       "    </tr>\n",
       "    <tr>\n",
       "      <th>7</th>\n",
       "      <td>mongo</td>\n",
       "      <td>32938</td>\n",
       "    </tr>\n",
       "    <tr>\n",
       "      <th>8</th>\n",
       "      <td>mongodb</td>\n",
       "      <td>82797</td>\n",
       "    </tr>\n",
       "    <tr>\n",
       "      <th>9</th>\n",
       "      <td>couchdb</td>\n",
       "      <td>6162</td>\n",
       "    </tr>\n",
       "    <tr>\n",
       "      <th>10</th>\n",
       "      <td>lucene</td>\n",
       "      <td>12517</td>\n",
       "    </tr>\n",
       "    <tr>\n",
       "      <th>11</th>\n",
       "      <td>solr</td>\n",
       "      <td>18493</td>\n",
       "    </tr>\n",
       "    <tr>\n",
       "      <th>12</th>\n",
       "      <td>lucene-solr</td>\n",
       "      <td>1328</td>\n",
       "    </tr>\n",
       "    <tr>\n",
       "      <th>13</th>\n",
       "      <td>elasticsearch</td>\n",
       "      <td>28921</td>\n",
       "    </tr>\n",
       "    <tr>\n",
       "      <th>14</th>\n",
       "      <td>impala</td>\n",
       "      <td>1008</td>\n",
       "    </tr>\n",
       "    <tr>\n",
       "      <th>15</th>\n",
       "      <td>flink</td>\n",
       "      <td>1078</td>\n",
       "    </tr>\n",
       "    <tr>\n",
       "      <th>16</th>\n",
       "      <td>drill</td>\n",
       "      <td>6223</td>\n",
       "    </tr>\n",
       "    <tr>\n",
       "      <th>17</th>\n",
       "      <td>apache-drill</td>\n",
       "      <td>430</td>\n",
       "    </tr>\n",
       "    <tr>\n",
       "      <th>18</th>\n",
       "      <td>apache drill</td>\n",
       "      <td>379</td>\n",
       "    </tr>\n",
       "    <tr>\n",
       "      <th>19</th>\n",
       "      <td>hive</td>\n",
       "      <td>14985</td>\n",
       "    </tr>\n",
       "    <tr>\n",
       "      <th>20</th>\n",
       "      <td>scalding</td>\n",
       "      <td>208</td>\n",
       "    </tr>\n",
       "  </tbody>\n",
       "</table>\n",
       "</div>"
      ],
      "text/plain": [
       "          package  so_body\n",
       "0       cascading    13920\n",
       "1           storm     3957\n",
       "2           spark    33193\n",
       "3       mapreduce    14105\n",
       "4          hadoop    39803\n",
       "5           hbase     7003\n",
       "6       cassandra    15307\n",
       "7           mongo    32938\n",
       "8         mongodb    82797\n",
       "9         couchdb     6162\n",
       "10         lucene    12517\n",
       "11           solr    18493\n",
       "12    lucene-solr     1328\n",
       "13  elasticsearch    28921\n",
       "14         impala     1008\n",
       "15          flink     1078\n",
       "16          drill     6223\n",
       "17   apache-drill      430\n",
       "18   apache drill      379\n",
       "19           hive    14985\n",
       "20       scalding      208"
      ]
     },
     "execution_count": 181,
     "metadata": {},
     "output_type": "execute_result"
    }
   ],
   "source": [
    "df_body"
   ]
  },
  {
   "cell_type": "code",
   "execution_count": 186,
   "metadata": {
    "collapsed": false
   },
   "outputs": [
    {
     "data": {
      "text/html": [
       "<div>\n",
       "<table border=\"1\" class=\"dataframe\">\n",
       "  <thead>\n",
       "    <tr style=\"text-align: right;\">\n",
       "      <th></th>\n",
       "      <th>package</th>\n",
       "      <th>so_tags</th>\n",
       "    </tr>\n",
       "  </thead>\n",
       "  <tbody>\n",
       "    <tr>\n",
       "      <th>0</th>\n",
       "      <td>mongodb</td>\n",
       "      <td>82783</td>\n",
       "    </tr>\n",
       "    <tr>\n",
       "      <th>1</th>\n",
       "      <td>hadoop</td>\n",
       "      <td>33852</td>\n",
       "    </tr>\n",
       "    <tr>\n",
       "      <th>2</th>\n",
       "      <td>apache-spark</td>\n",
       "      <td>27237</td>\n",
       "    </tr>\n",
       "    <tr>\n",
       "      <th>3</th>\n",
       "      <td>elasticsearch</td>\n",
       "      <td>25662</td>\n",
       "    </tr>\n",
       "    <tr>\n",
       "      <th>4</th>\n",
       "      <td>solr</td>\n",
       "      <td>15756</td>\n",
       "    </tr>\n",
       "    <tr>\n",
       "      <th>5</th>\n",
       "      <td>cassandra</td>\n",
       "      <td>12286</td>\n",
       "    </tr>\n",
       "    <tr>\n",
       "      <th>6</th>\n",
       "      <td>hive</td>\n",
       "      <td>10759</td>\n",
       "    </tr>\n",
       "    <tr>\n",
       "      <th>7</th>\n",
       "      <td>mapreduce</td>\n",
       "      <td>10395</td>\n",
       "    </tr>\n",
       "    <tr>\n",
       "      <th>9</th>\n",
       "      <td>hbase</td>\n",
       "      <td>5413</td>\n",
       "    </tr>\n",
       "    <tr>\n",
       "      <th>10</th>\n",
       "      <td>couchdb</td>\n",
       "      <td>4814</td>\n",
       "    </tr>\n",
       "    <tr>\n",
       "      <th>11</th>\n",
       "      <td>apache-storm</td>\n",
       "      <td>2005</td>\n",
       "    </tr>\n",
       "    <tr>\n",
       "      <th>12</th>\n",
       "      <td>apache-flink</td>\n",
       "      <td>948</td>\n",
       "    </tr>\n",
       "    <tr>\n",
       "      <th>13</th>\n",
       "      <td>impala</td>\n",
       "      <td>712</td>\n",
       "    </tr>\n",
       "    <tr>\n",
       "      <th>14</th>\n",
       "      <td>apache-drill</td>\n",
       "      <td>369</td>\n",
       "    </tr>\n",
       "    <tr>\n",
       "      <th>15</th>\n",
       "      <td>cascading</td>\n",
       "      <td>307</td>\n",
       "    </tr>\n",
       "    <tr>\n",
       "      <th>16</th>\n",
       "      <td>scalding</td>\n",
       "      <td>178</td>\n",
       "    </tr>\n",
       "  </tbody>\n",
       "</table>\n",
       "</div>"
      ],
      "text/plain": [
       "          package  so_tags\n",
       "0         mongodb    82783\n",
       "1          hadoop    33852\n",
       "2    apache-spark    27237\n",
       "3   elasticsearch    25662\n",
       "4            solr    15756\n",
       "5       cassandra    12286\n",
       "6            hive    10759\n",
       "7       mapreduce    10395\n",
       "9           hbase     5413\n",
       "10        couchdb     4814\n",
       "11   apache-storm     2005\n",
       "12   apache-flink      948\n",
       "13         impala      712\n",
       "14   apache-drill      369\n",
       "15      cascading      307\n",
       "16       scalding      178"
      ]
     },
     "execution_count": 186,
     "metadata": {},
     "output_type": "execute_result"
    }
   ],
   "source": [
    "df_tags"
   ]
  },
  {
   "cell_type": "code",
   "execution_count": 207,
   "metadata": {
    "collapsed": false
   },
   "outputs": [
    {
     "data": {
      "text/html": [
       "<div>\n",
       "<table border=\"1\" class=\"dataframe\">\n",
       "  <thead>\n",
       "    <tr style=\"text-align: right;\">\n",
       "      <th></th>\n",
       "      <th>package</th>\n",
       "      <th>repo</th>\n",
       "      <th>forks</th>\n",
       "      <th>stars</th>\n",
       "    </tr>\n",
       "  </thead>\n",
       "  <tbody>\n",
       "    <tr>\n",
       "      <th>0</th>\n",
       "      <td>cascading</td>\n",
       "      <td>cwensel/cascading</td>\n",
       "      <td>220</td>\n",
       "      <td>295</td>\n",
       "    </tr>\n",
       "    <tr>\n",
       "      <th>1</th>\n",
       "      <td>storm</td>\n",
       "      <td>nathanmarz/storm</td>\n",
       "      <td>1792</td>\n",
       "      <td>8989</td>\n",
       "    </tr>\n",
       "    <tr>\n",
       "      <th>2</th>\n",
       "      <td>spark</td>\n",
       "      <td>apache/spark</td>\n",
       "      <td>12250</td>\n",
       "      <td>13007</td>\n",
       "    </tr>\n",
       "    <tr>\n",
       "      <th>4</th>\n",
       "      <td>hadoop</td>\n",
       "      <td>apache/hadoop</td>\n",
       "      <td>3145</td>\n",
       "      <td>3304</td>\n",
       "    </tr>\n",
       "    <tr>\n",
       "      <th>5</th>\n",
       "      <td>hbase</td>\n",
       "      <td>apache/hbase</td>\n",
       "      <td>1126</td>\n",
       "      <td>1262</td>\n",
       "    </tr>\n",
       "    <tr>\n",
       "      <th>6</th>\n",
       "      <td>cassandra</td>\n",
       "      <td>apache/cassandra</td>\n",
       "      <td>1637</td>\n",
       "      <td>3583</td>\n",
       "    </tr>\n",
       "    <tr>\n",
       "      <th>9</th>\n",
       "      <td>couchdb</td>\n",
       "      <td>apache/couchdb</td>\n",
       "      <td>682</td>\n",
       "      <td>3014</td>\n",
       "    </tr>\n",
       "    <tr>\n",
       "      <th>12</th>\n",
       "      <td>solr</td>\n",
       "      <td>apache/lucene-solr</td>\n",
       "      <td>851</td>\n",
       "      <td>877</td>\n",
       "    </tr>\n",
       "    <tr>\n",
       "      <th>13</th>\n",
       "      <td>elasticsearch</td>\n",
       "      <td>elastic/elasticsearch</td>\n",
       "      <td>8064</td>\n",
       "      <td>22937</td>\n",
       "    </tr>\n",
       "    <tr>\n",
       "      <th>14</th>\n",
       "      <td>impala</td>\n",
       "      <td>cloudera/Impala</td>\n",
       "      <td>722</td>\n",
       "      <td>1803</td>\n",
       "    </tr>\n",
       "    <tr>\n",
       "      <th>15</th>\n",
       "      <td>flink</td>\n",
       "      <td>apache/flink</td>\n",
       "      <td>1652</td>\n",
       "      <td>2352</td>\n",
       "    </tr>\n",
       "    <tr>\n",
       "      <th>17</th>\n",
       "      <td>apache-drill</td>\n",
       "      <td>apache/drill</td>\n",
       "      <td>545</td>\n",
       "      <td>798</td>\n",
       "    </tr>\n",
       "    <tr>\n",
       "      <th>19</th>\n",
       "      <td>hive</td>\n",
       "      <td>apache/hive</td>\n",
       "      <td>1552</td>\n",
       "      <td>1347</td>\n",
       "    </tr>\n",
       "    <tr>\n",
       "      <th>20</th>\n",
       "      <td>scalding</td>\n",
       "      <td>twitter/scalding</td>\n",
       "      <td>635</td>\n",
       "      <td>2821</td>\n",
       "    </tr>\n",
       "  </tbody>\n",
       "</table>\n",
       "</div>"
      ],
      "text/plain": [
       "          package                   repo  forks  stars\n",
       "0       cascading      cwensel/cascading    220    295\n",
       "1           storm       nathanmarz/storm   1792   8989\n",
       "2           spark           apache/spark  12250  13007\n",
       "4          hadoop          apache/hadoop   3145   3304\n",
       "5           hbase           apache/hbase   1126   1262\n",
       "6       cassandra       apache/cassandra   1637   3583\n",
       "9         couchdb         apache/couchdb    682   3014\n",
       "12           solr     apache/lucene-solr    851    877\n",
       "13  elasticsearch  elastic/elasticsearch   8064  22937\n",
       "14         impala        cloudera/Impala    722   1803\n",
       "15          flink           apache/flink   1652   2352\n",
       "17   apache-drill           apache/drill    545    798\n",
       "19           hive            apache/hive   1552   1347\n",
       "20       scalding       twitter/scalding    635   2821"
      ]
     },
     "execution_count": 207,
     "metadata": {},
     "output_type": "execute_result"
    }
   ],
   "source": [
    "df_git"
   ]
  },
  {
   "cell_type": "code",
   "execution_count": 206,
   "metadata": {
    "collapsed": false
   },
   "outputs": [
    {
     "name": "stderr",
     "output_type": "stream",
     "text": [
      "/Users/paczuskp/miniconda3/envs/ipykernel_py2/lib/python2.7/site-packages/ipykernel/__main__.py:7: SettingWithCopyWarning: \n",
      "A value is trying to be set on a copy of a slice from a DataFrame.\n",
      "Try using .loc[row_indexer,col_indexer] = value instead\n",
      "\n",
      "See the caveats in the documentation: http://pandas.pydata.org/pandas-docs/stable/indexing.html#indexing-view-versus-copy\n",
      "/Users/paczuskp/miniconda3/envs/ipykernel_py2/lib/python2.7/site-packages/ipykernel/__main__.py:8: SettingWithCopyWarning: \n",
      "A value is trying to be set on a copy of a slice from a DataFrame.\n",
      "Try using .loc[row_indexer,col_indexer] = value instead\n",
      "\n",
      "See the caveats in the documentation: http://pandas.pydata.org/pandas-docs/stable/indexing.html#indexing-view-versus-copy\n"
     ]
    }
   ],
   "source": [
    "# mapreduce has no repo; mongodb -> mongo; lucene, solr -> lucene-solr\n",
    "# drill, apache drill -> apache-drill\n",
    "bad_git = 'mapreduce, mongodb, lucene, solr, drill, apache drill'.split(\", \")\n",
    "\n",
    "df_git = df_git[~df_git['package'].isin(bad_git)]\n",
    "\n",
    "df_git['package'] = df_git['package'].str.replace('mongo$', 'mongodb')\n",
    "df_git['package'] = df_git['package'].str.replace('lucene-solr', 'solr')"
   ]
  },
  {
   "cell_type": "code",
   "execution_count": 201,
   "metadata": {
    "collapsed": true,
    "deletable": true,
    "editable": true
   },
   "outputs": [],
   "source": [
    "# lucene -> solr, for merge with lucene-solr. also solr has more results so take it\n",
    "# drill, apache drill -> apache-drill\n",
    "bad_so = 'lucene, lucene-solr, mongo, drill, apache drill'.split(\", \")\n",
    "\n",
    "df_tags = df_tags[~df_tags['package'].isin(bad_so)]\n",
    "df_body = df_body[~df_body['package'].isin(bad_so)]"
   ]
  },
  {
   "cell_type": "code",
   "execution_count": 202,
   "metadata": {
    "collapsed": true
   },
   "outputs": [],
   "source": [
    "# remove SO or git artifacts for merge"
   ]
  },
  {
   "cell_type": "code",
   "execution_count": 203,
   "metadata": {
    "collapsed": false
   },
   "outputs": [
    {
     "name": "stderr",
     "output_type": "stream",
     "text": [
      "/Users/paczuskp/miniconda3/envs/ipykernel_py2/lib/python2.7/site-packages/ipykernel/__main__.py:1: SettingWithCopyWarning: \n",
      "A value is trying to be set on a copy of a slice from a DataFrame.\n",
      "Try using .loc[row_indexer,col_indexer] = value instead\n",
      "\n",
      "See the caveats in the documentation: http://pandas.pydata.org/pandas-docs/stable/indexing.html#indexing-view-versus-copy\n",
      "  if __name__ == '__main__':\n"
     ]
    }
   ],
   "source": [
    "df_tags['package'] = df_tags['package'].str.replace('apache-', '')"
   ]
  },
  {
   "cell_type": "markdown",
   "metadata": {
    "collapsed": true,
    "deletable": true,
    "editable": true
   },
   "source": [
    "# Results!"
   ]
  },
  {
   "cell_type": "code",
   "execution_count": 204,
   "metadata": {
    "collapsed": true
   },
   "outputs": [],
   "source": [
    "df = df_git.merge(df_body, how='outer').merge(df_tags, how='outer')"
   ]
  },
  {
   "cell_type": "code",
   "execution_count": 205,
   "metadata": {
    "collapsed": false
   },
   "outputs": [
    {
     "data": {
      "text/html": [
       "<div>\n",
       "<table border=\"1\" class=\"dataframe\">\n",
       "  <thead>\n",
       "    <tr style=\"text-align: right;\">\n",
       "      <th></th>\n",
       "      <th>package</th>\n",
       "      <th>repo</th>\n",
       "      <th>forks</th>\n",
       "      <th>stars</th>\n",
       "      <th>so_body</th>\n",
       "      <th>so_tags</th>\n",
       "    </tr>\n",
       "  </thead>\n",
       "  <tbody>\n",
       "    <tr>\n",
       "      <th>0</th>\n",
       "      <td>cascading</td>\n",
       "      <td>cwensel/cascading</td>\n",
       "      <td>220.0</td>\n",
       "      <td>295.0</td>\n",
       "      <td>13920.0</td>\n",
       "      <td>307.0</td>\n",
       "    </tr>\n",
       "    <tr>\n",
       "      <th>1</th>\n",
       "      <td>storm</td>\n",
       "      <td>nathanmarz/storm</td>\n",
       "      <td>1792.0</td>\n",
       "      <td>8989.0</td>\n",
       "      <td>3957.0</td>\n",
       "      <td>2005.0</td>\n",
       "    </tr>\n",
       "    <tr>\n",
       "      <th>2</th>\n",
       "      <td>spark</td>\n",
       "      <td>apache/spark</td>\n",
       "      <td>12250.0</td>\n",
       "      <td>13007.0</td>\n",
       "      <td>33193.0</td>\n",
       "      <td>27237.0</td>\n",
       "    </tr>\n",
       "    <tr>\n",
       "      <th>3</th>\n",
       "      <td>hadoop</td>\n",
       "      <td>apache/hadoop</td>\n",
       "      <td>3145.0</td>\n",
       "      <td>3304.0</td>\n",
       "      <td>39803.0</td>\n",
       "      <td>33852.0</td>\n",
       "    </tr>\n",
       "    <tr>\n",
       "      <th>4</th>\n",
       "      <td>hbase</td>\n",
       "      <td>apache/hbase</td>\n",
       "      <td>1126.0</td>\n",
       "      <td>1262.0</td>\n",
       "      <td>7003.0</td>\n",
       "      <td>5413.0</td>\n",
       "    </tr>\n",
       "    <tr>\n",
       "      <th>5</th>\n",
       "      <td>cassandra</td>\n",
       "      <td>apache/cassandra</td>\n",
       "      <td>1637.0</td>\n",
       "      <td>3583.0</td>\n",
       "      <td>15307.0</td>\n",
       "      <td>12286.0</td>\n",
       "    </tr>\n",
       "    <tr>\n",
       "      <th>6</th>\n",
       "      <td>mongodb</td>\n",
       "      <td>mongodb/mongo</td>\n",
       "      <td>3133.0</td>\n",
       "      <td>11573.0</td>\n",
       "      <td>82797.0</td>\n",
       "      <td>82783.0</td>\n",
       "    </tr>\n",
       "    <tr>\n",
       "      <th>7</th>\n",
       "      <td>couchdb</td>\n",
       "      <td>apache/couchdb</td>\n",
       "      <td>682.0</td>\n",
       "      <td>3014.0</td>\n",
       "      <td>6162.0</td>\n",
       "      <td>4814.0</td>\n",
       "    </tr>\n",
       "    <tr>\n",
       "      <th>8</th>\n",
       "      <td>lucene-solr</td>\n",
       "      <td>apache/lucene-solr</td>\n",
       "      <td>851.0</td>\n",
       "      <td>877.0</td>\n",
       "      <td>NaN</td>\n",
       "      <td>NaN</td>\n",
       "    </tr>\n",
       "    <tr>\n",
       "      <th>9</th>\n",
       "      <td>elasticsearch</td>\n",
       "      <td>elastic/elasticsearch</td>\n",
       "      <td>8064.0</td>\n",
       "      <td>22937.0</td>\n",
       "      <td>28921.0</td>\n",
       "      <td>25662.0</td>\n",
       "    </tr>\n",
       "    <tr>\n",
       "      <th>10</th>\n",
       "      <td>impala</td>\n",
       "      <td>cloudera/Impala</td>\n",
       "      <td>722.0</td>\n",
       "      <td>1803.0</td>\n",
       "      <td>1008.0</td>\n",
       "      <td>712.0</td>\n",
       "    </tr>\n",
       "    <tr>\n",
       "      <th>11</th>\n",
       "      <td>flink</td>\n",
       "      <td>apache/flink</td>\n",
       "      <td>1652.0</td>\n",
       "      <td>2352.0</td>\n",
       "      <td>1078.0</td>\n",
       "      <td>948.0</td>\n",
       "    </tr>\n",
       "    <tr>\n",
       "      <th>12</th>\n",
       "      <td>apache-drill</td>\n",
       "      <td>apache/drill</td>\n",
       "      <td>545.0</td>\n",
       "      <td>798.0</td>\n",
       "      <td>430.0</td>\n",
       "      <td>NaN</td>\n",
       "    </tr>\n",
       "    <tr>\n",
       "      <th>13</th>\n",
       "      <td>hive</td>\n",
       "      <td>apache/hive</td>\n",
       "      <td>1552.0</td>\n",
       "      <td>1347.0</td>\n",
       "      <td>14985.0</td>\n",
       "      <td>10759.0</td>\n",
       "    </tr>\n",
       "    <tr>\n",
       "      <th>14</th>\n",
       "      <td>scalding</td>\n",
       "      <td>twitter/scalding</td>\n",
       "      <td>635.0</td>\n",
       "      <td>2821.0</td>\n",
       "      <td>208.0</td>\n",
       "      <td>178.0</td>\n",
       "    </tr>\n",
       "    <tr>\n",
       "      <th>15</th>\n",
       "      <td>mapreduce</td>\n",
       "      <td>NaN</td>\n",
       "      <td>NaN</td>\n",
       "      <td>NaN</td>\n",
       "      <td>14105.0</td>\n",
       "      <td>10395.0</td>\n",
       "    </tr>\n",
       "    <tr>\n",
       "      <th>16</th>\n",
       "      <td>solr</td>\n",
       "      <td>NaN</td>\n",
       "      <td>NaN</td>\n",
       "      <td>NaN</td>\n",
       "      <td>18493.0</td>\n",
       "      <td>15756.0</td>\n",
       "    </tr>\n",
       "  </tbody>\n",
       "</table>\n",
       "</div>"
      ],
      "text/plain": [
       "          package                   repo    forks    stars  so_body  so_tags\n",
       "0       cascading      cwensel/cascading    220.0    295.0  13920.0    307.0\n",
       "1           storm       nathanmarz/storm   1792.0   8989.0   3957.0   2005.0\n",
       "2           spark           apache/spark  12250.0  13007.0  33193.0  27237.0\n",
       "3          hadoop          apache/hadoop   3145.0   3304.0  39803.0  33852.0\n",
       "4           hbase           apache/hbase   1126.0   1262.0   7003.0   5413.0\n",
       "5       cassandra       apache/cassandra   1637.0   3583.0  15307.0  12286.0\n",
       "6         mongodb          mongodb/mongo   3133.0  11573.0  82797.0  82783.0\n",
       "7         couchdb         apache/couchdb    682.0   3014.0   6162.0   4814.0\n",
       "8     lucene-solr     apache/lucene-solr    851.0    877.0      NaN      NaN\n",
       "9   elasticsearch  elastic/elasticsearch   8064.0  22937.0  28921.0  25662.0\n",
       "10         impala        cloudera/Impala    722.0   1803.0   1008.0    712.0\n",
       "11          flink           apache/flink   1652.0   2352.0   1078.0    948.0\n",
       "12   apache-drill           apache/drill    545.0    798.0    430.0      NaN\n",
       "13           hive            apache/hive   1552.0   1347.0  14985.0  10759.0\n",
       "14       scalding       twitter/scalding    635.0   2821.0    208.0    178.0\n",
       "15      mapreduce                    NaN      NaN      NaN  14105.0  10395.0\n",
       "16           solr                    NaN      NaN      NaN  18493.0  15756.0"
      ]
     },
     "execution_count": 205,
     "metadata": {},
     "output_type": "execute_result"
    }
   ],
   "source": [
    "df"
   ]
  },
  {
   "cell_type": "code",
   "execution_count": null,
   "metadata": {
    "collapsed": true
   },
   "outputs": [],
   "source": []
  }
 ],
 "metadata": {
  "kernelspec": {
   "display_name": "Python 2",
   "language": "python",
   "name": "python2"
  },
  "language_info": {
   "codemirror_mode": {
    "name": "ipython",
    "version": 2
   },
   "file_extension": ".py",
   "mimetype": "text/x-python",
   "name": "python",
   "nbconvert_exporter": "python",
   "pygments_lexer": "ipython2",
   "version": "2.7.13"
  }
 },
 "nbformat": 4,
 "nbformat_minor": 1
}
